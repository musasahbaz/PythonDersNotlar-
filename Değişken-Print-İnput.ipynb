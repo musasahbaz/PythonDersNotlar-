{
  "metadata": {
    "kernelspec": {
      "display_name": "Python (Pyodide)",
      "language": "python",
      "name": "python"
    },
    "language_info": {
      "codemirror_mode": {
        "name": "python",
        "version": 3
      },
      "file_extension": ".py",
      "mimetype": "text/x-python",
      "name": "python",
      "nbconvert_exporter": "python",
      "pygments_lexer": "ipython3",
      "version": "3.8"
    }
  },
  "nbformat_minor": 4,
  "nbformat": 4,
  "cells": [
    {
      "cell_type": "markdown",
      "source": "# SAYILAR-METİNLER-DEĞİŞKENLER - print Fonksiyonu",
      "metadata": {}
    },
    {
      "cell_type": "code",
      "source": "a=10  #a isminde bir değişken tanımlandı ve değer olarak 10 atandı\nprint(a)",
      "metadata": {
        "trusted": true
      },
      "outputs": [
        {
          "name": "stdout",
          "output_type": "stream",
          "text": "10\n"
        }
      ],
      "execution_count": 2
    },
    {
      "cell_type": "markdown",
      "source": " #### \"#\" işareti ile başlayan satırlar işleme konmaz. Çoğunlukla açıklama yapmak için kullanılır. O satırı pasif yapmak için de kullanılır.",
      "metadata": {}
    },
    {
      "cell_type": "code",
      "source": "# Bu bir yorum ve açıklama satırıdır.Ekranda çıktı olarak gözükmez\nprint(\"Merhaba\")",
      "metadata": {
        "trusted": true
      },
      "outputs": [
        {
          "name": "stdout",
          "output_type": "stream",
          "text": "Merhaba\n"
        }
      ],
      "execution_count": 2
    },
    {
      "cell_type": "code",
      "source": "a = 20\nb = a + 5     #a'nın 5 fazlasını b'ye atadı\nprint(b)",
      "metadata": {
        "trusted": true
      },
      "outputs": [
        {
          "name": "stdout",
          "output_type": "stream",
          "text": "25\n"
        }
      ],
      "execution_count": 3
    },
    {
      "cell_type": "code",
      "source": "a= 10\nb = 40 \nc = a + b    # c değişkeni a ile b'nin toplamını değer olarak aldı\nprint(\"SONUÇ = \" , c)",
      "metadata": {
        "trusted": true
      },
      "outputs": [
        {
          "name": "stdout",
          "output_type": "stream",
          "text": "SONUÇ =  50\n"
        }
      ],
      "execution_count": 4
    },
    {
      "cell_type": "code",
      "source": "x = 13\nx = x + 1    #x'in değerini 1 arttır\nprint ( x )",
      "metadata": {
        "trusted": true
      },
      "outputs": [
        {
          "name": "stdout",
          "output_type": "stream",
          "text": "14\n"
        }
      ],
      "execution_count": 5
    },
    {
      "cell_type": "code",
      "source": "x = 13\nx += 1      #x=x+1 ile aynı işi yapar\nprint(x)",
      "metadata": {
        "trusted": true
      },
      "outputs": [
        {
          "name": "stdout",
          "output_type": "stream",
          "text": "14\n"
        }
      ],
      "execution_count": 6
    },
    {
      "cell_type": "code",
      "source": "x = 50\nx *= 2      #x'in değerini 2 katına çıkar\nprint(x)",
      "metadata": {
        "trusted": true
      },
      "outputs": [
        {
          "name": "stdout",
          "output_type": "stream",
          "text": "100\n"
        }
      ],
      "execution_count": 7
    },
    {
      "cell_type": "code",
      "source": "x = 20\nx /= 3      #x'in değerini 3'e böl ve yeni değer bu olsun\nprint(x)",
      "metadata": {
        "trusted": true
      },
      "outputs": [
        {
          "name": "stdout",
          "output_type": "stream",
          "text": "6.666666666666667\n"
        }
      ],
      "execution_count": 8
    },
    {
      "cell_type": "markdown",
      "source": "#### ÜS VE MOD",
      "metadata": {}
    },
    {
      "cell_type": "code",
      "source": "a = 12*12  # Çarpma işlemi\nprint(a)",
      "metadata": {
        "trusted": true
      },
      "outputs": [
        {
          "name": "stdout",
          "output_type": "stream",
          "text": "144\n"
        }
      ],
      "execution_count": 9
    },
    {
      "cell_type": "code",
      "source": "a = 12**2 # Üs almak için ** kullanılır.\nprint(f\"{12} sayısının karesi = {a} dır\")",
      "metadata": {
        "trusted": true
      },
      "outputs": [
        {
          "name": "stdout",
          "output_type": "stream",
          "text": "12 sayısının karesi = 144 dır\n"
        }
      ],
      "execution_count": 10
    },
    {
      "cell_type": "code",
      "source": "a = pow(12,2) # Üs almak için pow formülü de kullanılır. (Power kelimesinden gelir)\nprint(f\"{12} sayısının karesi = {a} dır\") # pow() fonksiyonu da üs almak için kullanılabilir",
      "metadata": {
        "trusted": true
      },
      "outputs": [
        {
          "name": "stdout",
          "output_type": "stream",
          "text": "12 sayısının karesi = 144 dır\n"
        }
      ],
      "execution_count": 11
    },
    {
      "cell_type": "markdown",
      "source": "##### KAREKÖK HESAPLAMA ",
      "metadata": {}
    },
    {
      "cell_type": "code",
      "source": "a = 81**0.5     # 81**(1/2) ile aynı görevi yerine getirir.Karekökünü alır\n\nprint(f\"{81} sayısının kare kökü = {a} dır\")",
      "metadata": {
        "trusted": true
      },
      "outputs": [
        {
          "name": "stdout",
          "output_type": "stream",
          "text": "81 sayısının kare kökü = 9.0 dır\n"
        }
      ],
      "execution_count": 12
    },
    {
      "cell_type": "code",
      "source": "print(pow(81,0.5))    #81 sayısının 2.dereceden kökünü alır",
      "metadata": {
        "trusted": true
      },
      "outputs": [
        {
          "name": "stdout",
          "output_type": "stream",
          "text": "9.0\n"
        }
      ],
      "execution_count": 13
    },
    {
      "cell_type": "markdown",
      "source": "##### MOD HESAPLAMA (BÖLÜMÜNDEN KALANI BULMA)",
      "metadata": {}
    },
    {
      "cell_type": "code",
      "source": "print( 26 % 7 )  # 26 nın 7 ye bölümünden kalanı verir.Mod.",
      "metadata": {
        "trusted": true
      },
      "outputs": [
        {
          "name": "stdout",
          "output_type": "stream",
          "text": "5\n"
        }
      ],
      "execution_count": 14
    },
    {
      "cell_type": "code",
      "source": "print(53 % 10)   # 53'ün 10'a bölümünden kalanını hesaplar",
      "metadata": {
        "trusted": true
      },
      "outputs": [
        {
          "name": "stdout",
          "output_type": "stream",
          "text": "3\n"
        }
      ],
      "execution_count": 103
    },
    {
      "cell_type": "markdown",
      "source": "#### ÇOKLU DEĞİŞKENE DEĞER ATAMA",
      "metadata": {}
    },
    {
      "cell_type": "code",
      "source": "\nx=y=50 #Aynı değeri çoklu değişkenlere atama\n\nprint (x)\nprint (y)",
      "metadata": {
        "trusted": true
      },
      "outputs": [
        {
          "name": "stdout",
          "output_type": "stream",
          "text": "50\n50\n"
        }
      ],
      "execution_count": 15
    },
    {
      "cell_type": "code",
      "source": "x,y,z = 5,7,9 #farklı değeri çoklu değişkenlere atama\n\nprint (x)\nprint (y)",
      "metadata": {
        "trusted": true
      },
      "outputs": [
        {
          "name": "stdout",
          "output_type": "stream",
          "text": "5\n7\n"
        }
      ],
      "execution_count": 16
    },
    {
      "cell_type": "code",
      "source": "ocak = mart = mayıs = temmuz = ağustos = ekim = aralık = 31    # ay isimleri 3 gruba bölünerek değerler verildi\nnisan = haziran = eylül = kasım = 30\nşubat = 29\n\nprint(eylül)",
      "metadata": {
        "trusted": true
      },
      "outputs": [
        {
          "name": "stdout",
          "output_type": "stream",
          "text": "30\n"
        }
      ],
      "execution_count": 17
    },
    {
      "cell_type": "code",
      "source": "y1,y2,perf = 90,95,100  #tek satırda 3 değişken tanımlandı ve değerleri atandı.,,\n\nprint (y1)\nprint (perf)\n\nort=(y1+y2+perf)/3\n\nprint (f\"ORTALAMA ={ort}\")",
      "metadata": {
        "trusted": true
      },
      "outputs": [
        {
          "name": "stdout",
          "output_type": "stream",
          "text": "90\n100\nORTALAMA =95.0\n"
        }
      ],
      "execution_count": 18
    },
    {
      "cell_type": "markdown",
      "source": "#### DEĞİŞKEN TAKASI",
      "metadata": {}
    },
    {
      "cell_type": "code",
      "source": "almanya =\"Paris\"\nfransa = \"Berlin\"    #Başkent eşleştirmesi yanlış\n\nalmanya, fransa = fransa, almanya      #değişken değerleri yer değiştiriyor\nprint(\"Almanya'nın Başkenti :\", almanya)\nprint(\"Fransa'nın Başkenti :\", fransa)",
      "metadata": {
        "trusted": true
      },
      "outputs": [
        {
          "name": "stdout",
          "output_type": "stream",
          "text": "Almanya'nın Başkenti : Berlin\nFransa'nın Başkenti : Paris\n"
        }
      ],
      "execution_count": 28
    },
    {
      "cell_type": "code",
      "source": "oyuncu=\"Yavuz Turgul\"\nyonetmen=\"Şener Şen\"\noyuncu,yonetmen = yonetmen,oyuncu #değerleri yer değiş\n\nprint( oyuncu )\n",
      "metadata": {
        "trusted": true
      },
      "outputs": [
        {
          "name": "stdout",
          "output_type": "stream",
          "text": "Şener Şen\n"
        }
      ],
      "execution_count": 20
    },
    {
      "cell_type": "markdown",
      "source": "#### TYPE FONKSİYONU()\n###### type() fonksiyonu değişkenin veri tipini verir.",
      "metadata": {}
    },
    {
      "cell_type": "code",
      "source": "adi = \"Ova\"\na = 50\npi = 3.14\nharf = \"e\"\n\nprint(\"adi değişkenininin türü =\", type(adi)) \nprint(\"a değişkenininin türü =\", type(a))\nprint(\"pi değişkenininin türü =\", type(pi))\nprint(\"harf değişkenininin türü =\", type(harf))",
      "metadata": {
        "scrolled": true,
        "trusted": true
      },
      "outputs": [
        {
          "name": "stdout",
          "output_type": "stream",
          "text": "adi değişkenininin türü = <class 'str'>\na değişkenininin türü = <class 'int'>\npi değişkenininin türü = <class 'float'>\nharf değişkenininin türü = <class 'str'>\n"
        }
      ],
      "execution_count": 104
    },
    {
      "cell_type": "markdown",
      "source": "#### LEN FONKSİYONU() \n##### Değişkenin string karakter uzunluğunu verir. Sadece string değerlerde çalışır",
      "metadata": {}
    },
    {
      "cell_type": "code",
      "source": "a= len(\"Ankara\")   # Ankara kelimesinin kaç karakterden oluştuğunu hesaplar\nprint (a)",
      "metadata": {
        "trusted": true
      },
      "outputs": [
        {
          "name": "stdout",
          "output_type": "stream",
          "text": "6\n"
        }
      ],
      "execution_count": 22
    },
    {
      "cell_type": "code",
      "source": "sonuc=\"KALDI\"\nprint( len (sonuc))\n",
      "metadata": {
        "trusted": true
      },
      "outputs": [
        {
          "name": "stdout",
          "output_type": "stream",
          "text": "5\n"
        }
      ],
      "execution_count": 23
    },
    {
      "cell_type": "code",
      "source": "print(\"Bilgisayar kelimesinin uzunluğu = \", len(\"Bilgisayar\"))",
      "metadata": {
        "trusted": true
      },
      "outputs": [
        {
          "name": "stdout",
          "output_type": "stream",
          "text": "Bilgisayar kelimesinin uzunluğu =  10\n"
        }
      ],
      "execution_count": 112
    },
    {
      "cell_type": "code",
      "source": "yer=\"Kuzguncuk\" #String bir karakter dizisidir\nprint(yer[3]) #Dizinin 3.elemanı\nprint(yer[0])",
      "metadata": {
        "trusted": true
      },
      "outputs": [
        {
          "name": "stdout",
          "output_type": "stream",
          "text": "g\nK\n"
        }
      ],
      "execution_count": 24
    },
    {
      "cell_type": "markdown",
      "source": "\n##### TİP DÖNÜŞTÜRME",
      "metadata": {}
    },
    {
      "cell_type": "code",
      "source": "print( int(3.14) ) # 3.14 float sayısını bir alt tamsayı yapar (aşağı yuvarlar). Yani ondalıklı kısmı tamamen siler. ",
      "metadata": {
        "trusted": true
      },
      "outputs": [
        {
          "name": "stdout",
          "output_type": "stream",
          "text": "3\n"
        }
      ],
      "execution_count": 113
    },
    {
      "cell_type": "code",
      "source": "print( int(5.9) )",
      "metadata": {
        "trusted": true
      },
      "outputs": [
        {
          "name": "stdout",
          "output_type": "stream",
          "text": "5\n"
        }
      ],
      "execution_count": 32
    },
    {
      "cell_type": "code",
      "source": "print( str(36) ) # integer olan tam sayıyı stringe dönüştür. ",
      "metadata": {
        "trusted": true
      },
      "outputs": [
        {
          "name": "stdout",
          "output_type": "stream",
          "text": "36\n"
        }
      ],
      "execution_count": 33
    },
    {
      "cell_type": "code",
      "source": "print( float(15) ) # Tam sayıyı, floata çevir",
      "metadata": {
        "trusted": true
      },
      "outputs": [
        {
          "name": "stdout",
          "output_type": "stream",
          "text": "15.0\n"
        }
      ],
      "execution_count": 34
    },
    {
      "cell_type": "code",
      "source": "pi=3.14\nprint( int(pi) )",
      "metadata": {
        "trusted": true
      },
      "outputs": [
        {
          "name": "stdout",
          "output_type": "stream",
          "text": "3\n"
        }
      ],
      "execution_count": 35
    },
    {
      "cell_type": "markdown",
      "source": "#### round () fonksiyonu ile sayı yuvarlama",
      "metadata": {}
    },
    {
      "cell_type": "code",
      "source": "print( round(2.3) ) #round() yuvarla fonksiyonudur. Sayının ondalıklı kısmına bakarak, sayıyı aşağı ya da yukarı yuvarlar",
      "metadata": {
        "trusted": true
      },
      "outputs": [
        {
          "name": "stdout",
          "output_type": "stream",
          "text": "2\n"
        }
      ],
      "execution_count": 1
    },
    {
      "cell_type": "code",
      "source": "print( round(2.8)) #Ondalıklı kısım 5 veya 5'ten büyükse üst sayıya yuvarlar",
      "metadata": {
        "trusted": true
      },
      "outputs": [
        {
          "name": "stdout",
          "output_type": "stream",
          "text": "3\n"
        }
      ],
      "execution_count": 37
    },
    {
      "cell_type": "code",
      "source": "print( round(2.4912)) ",
      "metadata": {
        "trusted": true
      },
      "outputs": [
        {
          "name": "stdout",
          "output_type": "stream",
          "text": "2\n"
        }
      ],
      "execution_count": 114
    },
    {
      "cell_type": "code",
      "source": "print( round(2.721)) #Ondalıklı kısmı 2 basamak yaz",
      "metadata": {
        "trusted": true
      },
      "outputs": [
        {
          "name": "stdout",
          "output_type": "stream",
          "text": "3\n"
        }
      ],
      "execution_count": 116
    },
    {
      "cell_type": "markdown",
      "source": "#\n#### METİNLERLE ÇALIŞMA",
      "metadata": {}
    },
    {
      "cell_type": "code",
      "source": "adi=\"Kemal\"                       #adi isminde bir değişken tanımlandı ve değer atandı\nsoyadi=\"Sunal\"\nprint( adi)",
      "metadata": {
        "trusted": true
      },
      "outputs": [
        {
          "name": "stdout",
          "output_type": "stream",
          "text": "Kemal\n"
        }
      ],
      "execution_count": 40
    },
    {
      "cell_type": "code",
      "source": "adi=\"Kemal\"                       #adi isminde bir değişken tanımlandı ve değer atandı\nsoyadi=\"Sunal\"\nadiSoyadi = adi + soyadi         #adi ve soyadi değişkenleri birleştirildi ama boşluksuz\nprint (adiSoyadi)",
      "metadata": {
        "trusted": true
      },
      "outputs": [
        {
          "name": "stdout",
          "output_type": "stream",
          "text": "KemalSunal\n"
        }
      ],
      "execution_count": 41
    },
    {
      "cell_type": "code",
      "source": "adi=\"Kemal\"                       #adi isminde bir değişken tanımlandı ve değer atandı\nsoyadi=\"Sunal\"\nadiSoyadi=adi+\" \"+soyadi\nprint (adiSoyadi)",
      "metadata": {
        "trusted": true
      },
      "outputs": [
        {
          "name": "stdout",
          "output_type": "stream",
          "text": "Kemal Sunal\n"
        }
      ],
      "execution_count": 42
    },
    {
      "cell_type": "code",
      "source": "adi=\"Kemal\"                       #adi isminde bir değişken tanımlandı ve değer atandı\nsoyadi=\"Sunal\"\nprint(adi,soyadi)            # aralara boşluk ekleyerek yazar",
      "metadata": {
        "trusted": true
      },
      "outputs": [
        {
          "name": "stdout",
          "output_type": "stream",
          "text": "Kemal Sunal\n"
        }
      ],
      "execution_count": 43
    },
    {
      "cell_type": "code",
      "source": "print('Sabahattin', 'Ali') # Araya boşluk koyarak kelimeleri yazar",
      "metadata": {
        "trusted": true
      },
      "outputs": [
        {
          "name": "stdout",
          "output_type": "stream",
          "text": "Sabahattin Ali\n"
        }
      ],
      "execution_count": 44
    },
    {
      "cell_type": "code",
      "source": " print('Peyami', 'Safa', 'İstanbul', 1899)",
      "metadata": {
        "trusted": true
      },
      "outputs": [
        {
          "name": "stdout",
          "output_type": "stream",
          "text": "Peyami Safa İstanbul 1899\n"
        }
      ],
      "execution_count": 45
    },
    {
      "cell_type": "code",
      "source": "print(\"Ahmet\" + \" \" + \"Hamdi\" + \" \" +  \"TANPINAR\")               #bu şekilde de metin birleştirme yapılabilir",
      "metadata": {
        "trusted": true
      },
      "outputs": [
        {
          "name": "stdout",
          "output_type": "stream",
          "text": "Ahmet Hamdi TANPINAR\n"
        }
      ],
      "execution_count": 46
    },
    {
      "cell_type": "code",
      "source": "print( \"Oğuz\"+\"ATAY\" )  #metni birleştirir, boşluk bırakmaz",
      "metadata": {
        "trusted": true
      },
      "outputs": [
        {
          "name": "stdout",
          "output_type": "stream",
          "text": "OğuzATAY\n"
        }
      ],
      "execution_count": 47
    },
    {
      "cell_type": "code",
      "source": "print ( 4+9 )",
      "metadata": {
        "trusted": true
      },
      "outputs": [
        {
          "name": "stdout",
          "output_type": "stream",
          "text": "13\n"
        }
      ],
      "execution_count": 48
    },
    {
      "cell_type": "code",
      "source": "print ( 4+\"Oğuz\" )   # Matematiksel işlemler sadece sayısal değerlerde yapılabilir.",
      "metadata": {
        "trusted": true
      },
      "outputs": [
        {
          "ename": "<class 'TypeError'>",
          "evalue": "unsupported operand type(s) for +: 'int' and 'str'",
          "traceback": [
            "\u001b[0;31m---------------------------------------------------------------------------\u001b[0m",
            "\u001b[0;31mTypeError\u001b[0m                                 Traceback (most recent call last)",
            "Cell \u001b[0;32mIn[49], line 1\u001b[0m\n\u001b[0;32m----> 1\u001b[0m \u001b[38;5;28mprint\u001b[39m ( \u001b[38;5;241;43m4\u001b[39;49m\u001b[38;5;241;43m+\u001b[39;49m\u001b[38;5;124;43m\"\u001b[39;49m\u001b[38;5;124;43mOğuz\u001b[39;49m\u001b[38;5;124;43m\"\u001b[39;49m )   \u001b[38;5;66;03m# Matematiksel işlemler sadece sayısal değerlerde yapılabilir.\u001b[39;00m\n",
            "\u001b[0;31mTypeError\u001b[0m: unsupported operand type(s) for +: 'int' and 'str'"
          ],
          "output_type": "error"
        }
      ],
      "execution_count": 49
    },
    {
      "cell_type": "code",
      "source": "print (45+\"55\")   # İnterger ile String toplanamaz",
      "metadata": {
        "trusted": true
      },
      "outputs": [
        {
          "ename": "<class 'TypeError'>",
          "evalue": "unsupported operand type(s) for +: 'int' and 'str'",
          "traceback": [
            "\u001b[0;31m---------------------------------------------------------------------------\u001b[0m",
            "\u001b[0;31mTypeError\u001b[0m                                 Traceback (most recent call last)",
            "Cell \u001b[0;32mIn[50], line 1\u001b[0m\n\u001b[0;32m----> 1\u001b[0m \u001b[38;5;28mprint\u001b[39m (\u001b[38;5;241;43m45\u001b[39;49m\u001b[38;5;241;43m+\u001b[39;49m\u001b[38;5;124;43m\"\u001b[39;49m\u001b[38;5;124;43m55\u001b[39;49m\u001b[38;5;124;43m\"\u001b[39;49m)   \u001b[38;5;66;03m# İnterger ile String toplanamaz\u001b[39;00m\n",
            "\u001b[0;31mTypeError\u001b[0m: unsupported operand type(s) for +: 'int' and 'str'"
          ],
          "output_type": "error"
        }
      ],
      "execution_count": 50
    },
    {
      "cell_type": "code",
      "source": "print ( \"45\"+\"55\" )   # Tırnak içinde girilen değerler String olarak işlem görür ve birleştirilir.",
      "metadata": {
        "trusted": true
      },
      "outputs": [
        {
          "name": "stdout",
          "output_type": "stream",
          "text": "4555\n"
        }
      ],
      "execution_count": 51
    },
    {
      "cell_type": "code",
      "source": "print ( \"Metin\"*5 )   # Belirtilen stringi 5 kere çoğaltır. ",
      "metadata": {
        "trusted": true
      },
      "outputs": [
        {
          "name": "stdout",
          "output_type": "stream",
          "text": "MetinMetinMetinMetinMetin\n"
        }
      ],
      "execution_count": 52
    },
    {
      "cell_type": "code",
      "source": "print ( \"=\" * 30 )     # eşittir işaretinden 30 tene çoğaltarak yazar",
      "metadata": {
        "trusted": true
      },
      "outputs": [
        {
          "name": "stdout",
          "output_type": "stream",
          "text": "==============================\n"
        }
      ],
      "execution_count": 117
    },
    {
      "cell_type": "markdown",
      "source": "##### * oparetörünün metinlerle kullanımı",
      "metadata": {}
    },
    {
      "cell_type": "code",
      "source": "print(*\"Çanakkale\")   #stringin başına * operatörü konulursa o stringi karakterlere ayırır ",
      "metadata": {
        "trusted": true
      },
      "outputs": [
        {
          "name": "stdout",
          "output_type": "stream",
          "text": "Ç a n a k k a l e\n"
        }
      ],
      "execution_count": 54
    },
    {
      "cell_type": "code",
      "source": "print(*\"Çanakkale\")  #Karakterlere ayırır ve araya boşluk ekler",
      "metadata": {
        "trusted": true
      },
      "outputs": [
        {
          "name": "stdout",
          "output_type": "stream",
          "text": "Ç a n a k k a l e\n"
        }
      ],
      "execution_count": 55
    },
    {
      "cell_type": "code",
      "source": "print(*\"Çanakkale\",sep=\"-\")   # sep parametresi ile herbir karakter arasına - işareti eklenebilir",
      "metadata": {
        "trusted": true
      },
      "outputs": [
        {
          "name": "stdout",
          "output_type": "stream",
          "text": "Ç-a-n-a-k-k-a-l-e\n"
        }
      ],
      "execution_count": 118
    },
    {
      "cell_type": "markdown",
      "source": "#### Print Fonksiyonu ve Formatlama\n",
      "metadata": {}
    },
    {
      "cell_type": "markdown",
      "source": " ##### \"#\" işareti ile başlayan satırlar işleme konmaz. Çoğunlukla açıklama yapmak için kullanılır",
      "metadata": {}
    },
    {
      "cell_type": "markdown",
      "source": "#Kodlarımızı dosyalara yazdığımızda, eğer ekrana bir değer bastırmak istersek *print* fonksiyonunu kullanırız. \nKullanımı oldukça basittir ve değişik özelliklere sahiptir. Örneklerimize bakalım.\n",
      "metadata": {}
    },
    {
      "cell_type": "code",
      "source": "print('Merhaba Dünya') #Tek tırnak ile çift tırnak aynı işi görür",
      "metadata": {
        "trusted": true
      },
      "outputs": [
        {
          "name": "stdout",
          "output_type": "stream",
          "text": "Merhaba Dünya\n"
        }
      ],
      "execution_count": 119
    },
    {
      "cell_type": "code",
      "source": "print(\"Merhaba Dünya\") #Bu örnek çift tırnak ile yazıldı ama aynı sonuç alınır. ",
      "metadata": {
        "trusted": true
      },
      "outputs": [
        {
          "name": "stdout",
          "output_type": "stream",
          "text": "Merhaba Dünya\n"
        }
      ],
      "execution_count": 120
    },
    {
      "cell_type": "code",
      "source": "print('''Merhaba Dünya''') # Üç tırnak da kullanılabilir :) Sonuç yine aynı olur.",
      "metadata": {
        "trusted": true
      },
      "outputs": [
        {
          "name": "stdout",
          "output_type": "stream",
          "text": "Merhaba Dünya\n"
        }
      ],
      "execution_count": 121
    },
    {
      "cell_type": "code",
      "source": "# 3 tırnak kullanımınn sağladığı ilk fayda, çoklu satır yazmak. Alt alta satırlar şeklinde çıktı alınabilir. \n\nprint(''' MENÜ\n        ----------------------\n        1 - PARA ÇEKME\n        2-  PARA YATIRMA\n        3-  BAKİYE GÖRÜNTÜLE\n        4-  PARA AKTAR\n        5-  ÇIKIŞ \n        ----------------------\n        ''')",
      "metadata": {
        "trusted": true
      },
      "outputs": [
        {
          "name": "stdout",
          "output_type": "stream",
          "text": " MENÜ\n        ----------------------\n        1 - PARA ÇEKME\n        2-  PARA YATIRMA\n        3-  BAKİYE GÖRÜNTÜLE\n        4-  PARA AKTAR\n        5-  ÇIKIŞ \n        ----------------------\n        \n"
        }
      ],
      "execution_count": 122
    },
    {
      "cell_type": "code",
      "source": "print(\"Python programlama dilinin adı \"piton\" yılanından gelmez\") #Hata verir. Çift tırnak ile başlayan ve biten  cümle içinde çift tırnak kullanılmış.",
      "metadata": {
        "trusted": true
      },
      "outputs": [
        {
          "ename": "<class 'SyntaxError'>",
          "evalue": "invalid syntax. Perhaps you forgot a comma? (<ipython-input-123-951eb0758c0d>, line 1)",
          "traceback": [
            "\u001b[0;36m  Cell \u001b[0;32mIn[123], line 1\u001b[0;36m\u001b[0m\n\u001b[0;31m    print(\"Python programlama dilinin adı \"piton\" yılanından gelmez\") #Hata verir. Çift tırnak ile başlayan ve biten  cümle içinde çift tırnak kullanılmış.\u001b[0m\n\u001b[0m          ^\u001b[0m\n\u001b[0;31mSyntaxError\u001b[0m\u001b[0;31m:\u001b[0m invalid syntax. Perhaps you forgot a comma?\n"
          ],
          "output_type": "error"
        }
      ],
      "execution_count": 123
    },
    {
      "cell_type": "code",
      "source": "# Bu hatayı şu şekilde çözebiliriz",
      "metadata": {
        "trusted": true
      },
      "outputs": [],
      "execution_count": 61
    },
    {
      "cell_type": "code",
      "source": "print('Python programlama dilinin adı \"piton\" yılanından gelmez') # Tek tırnak ile başlayarak",
      "metadata": {
        "trusted": true
      },
      "outputs": [
        {
          "name": "stdout",
          "output_type": "stream",
          "text": "Python programlama dilinin adı \"piton\" yılanından gelmez\n"
        }
      ],
      "execution_count": 62
    },
    {
      "cell_type": "code",
      "source": "print('İstanbul'un 5 günlük hava durumu tahmini') # Hata verir. Tek tırnak ile başlayıp biten cümle içinde tek tırnak kullanılmış.",
      "metadata": {
        "trusted": true
      },
      "outputs": [
        {
          "ename": "<class 'SyntaxError'>",
          "evalue": "unterminated string literal (detected at line 1) (<ipython-input-125-2acea2a6453c>, line 1)",
          "traceback": [
            "\u001b[0;36m  Cell \u001b[0;32mIn[125], line 1\u001b[0;36m\u001b[0m\n\u001b[0;31m    print('İstanbul'un 5 günlük hava durumu tahmini') # Hata verir. Tek tırnak ile başlayıp biten cümle içinde tek tırnak kullanılmış.\u001b[0m\n\u001b[0m                                                   ^\u001b[0m\n\u001b[0;31mSyntaxError\u001b[0m\u001b[0;31m:\u001b[0m unterminated string literal (detected at line 1)\n"
          ],
          "output_type": "error"
        }
      ],
      "execution_count": 125
    },
    {
      "cell_type": "code",
      "source": "#ÇÖZÜM:\n print(\"İstanbul'un 5 günlük hava durumu tahmini\")",
      "metadata": {
        "trusted": true
      },
      "outputs": [
        {
          "ename": "<class 'IndentationError'>",
          "evalue": "unexpected indent (<ipython-input-64-8d2b1b287a33>, line 2)",
          "traceback": [
            "\u001b[0;36m  Cell \u001b[0;32mIn[64], line 2\u001b[0;36m\u001b[0m\n\u001b[0;31m    print(\"İstanbul'un 5 günlük hava durumu tahmini\")\u001b[0m\n\u001b[0m    ^\u001b[0m\n\u001b[0;31mIndentationError\u001b[0m\u001b[0;31m:\u001b[0m unexpected indent\n"
          ],
          "output_type": "error"
        }
      ],
      "execution_count": 64
    },
    {
      "cell_type": "code",
      "source": " # Aşağıdaki örnekte Hem tek tırnak, hem de çift tırnak kullanılmış",
      "metadata": {
        "trusted": true
      },
      "outputs": [],
      "execution_count": 65
    },
    {
      "cell_type": "code",
      "source": "print(\"O an Atatürk'ün \"Ne mutlu Türküm diyene\" sözü gelir\")  ",
      "metadata": {
        "trusted": true
      },
      "outputs": [
        {
          "ename": "<class 'SyntaxError'>",
          "evalue": "invalid syntax. Perhaps you forgot a comma? (<ipython-input-66-e441ad5af655>, line 1)",
          "traceback": [
            "\u001b[0;36m  Cell \u001b[0;32mIn[66], line 1\u001b[0;36m\u001b[0m\n\u001b[0;31m    print(\"O an Atatürk'ün \"Ne mutlu Türküm diyene\" sözü gelir\")\u001b[0m\n\u001b[0m          ^\u001b[0m\n\u001b[0;31mSyntaxError\u001b[0m\u001b[0;31m:\u001b[0m invalid syntax. Perhaps you forgot a comma?\n"
          ],
          "output_type": "error"
        }
      ],
      "execution_count": 66
    },
    {
      "cell_type": "markdown",
      "source": "### \\ (ters taksim) kaçış operatörü",
      "metadata": {}
    },
    {
      "cell_type": "code",
      "source": "\\ operatörü ile kendinden sonra komut görevi olan karakterin o görevi iptal edilir. Tek karakter için geçerlidir.",
      "metadata": {
        "trusted": true
      },
      "outputs": [],
      "execution_count": null
    },
    {
      "cell_type": "code",
      "source": "print('Yarın Adana'ya gidiyorum.') #Hata. Burada Adana'ya yazan yerdeki tek tırnak cümleyi bitiriyor ve hataya sebep oluyor. ",
      "metadata": {
        "trusted": true
      },
      "outputs": [
        {
          "ename": "<class 'SyntaxError'>",
          "evalue": "unterminated string literal (detected at line 1) (<ipython-input-67-a31144d47a13>, line 1)",
          "traceback": [
            "\u001b[0;36m  Cell \u001b[0;32mIn[67], line 1\u001b[0;36m\u001b[0m\n\u001b[0;31m    print('Yarın Adana'ya gidiyorum.') #Hata\u001b[0m\n\u001b[0m                                    ^\u001b[0m\n\u001b[0;31mSyntaxError\u001b[0m\u001b[0;31m:\u001b[0m unterminated string literal (detected at line 1)\n"
          ],
          "output_type": "error"
        }
      ],
      "execution_count": 67
    },
    {
      "cell_type": "code",
      "source": "print('Yarın Adana\\'ya gidiyorum.') #Hata giderildi. Adana'ya yazan yerdeki tek tırnağın cümleyi bitirme görevi iptal edildi. ",
      "metadata": {
        "trusted": true
      },
      "outputs": [
        {
          "name": "stdout",
          "output_type": "stream",
          "text": "Yarın Adana'ya gidiyorum.\n"
        }
      ],
      "execution_count": 68
    },
    {
      "cell_type": "code",
      "source": "print(\" \"book\" kelimesi Türkçede \"kitap\" anlamına gelir.\") #Hatalı",
      "metadata": {
        "trusted": true
      },
      "outputs": [
        {
          "ename": "<class 'SyntaxError'>",
          "evalue": "invalid syntax. Perhaps you forgot a comma? (<ipython-input-69-1b7411cc4121>, line 1)",
          "traceback": [
            "\u001b[0;36m  Cell \u001b[0;32mIn[69], line 1\u001b[0;36m\u001b[0m\n\u001b[0;31m    print(\" \"book\" kelimesi Türkçede \"kitap\" anlamına gelir.\") #Hatalı\u001b[0m\n\u001b[0m          ^\u001b[0m\n\u001b[0;31mSyntaxError\u001b[0m\u001b[0;31m:\u001b[0m invalid syntax. Perhaps you forgot a comma?\n"
          ],
          "output_type": "error"
        }
      ],
      "execution_count": 69
    },
    {
      "cell_type": "code",
      "source": "print(\"\\\"book\\\" kelimesi Türkçede \\\"kitap\\\" anlamına gelir.\")",
      "metadata": {
        "trusted": true
      },
      "outputs": [
        {
          "name": "stdout",
          "output_type": "stream",
          "text": "\"book\" kelimesi Türkçede \"kitap\" anlamına gelir.\n"
        }
      ],
      "execution_count": 70
    },
    {
      "cell_type": "code",
      "source": "#ya da daha kolayı şu: üç tırnak kullanımı\n\nprint(\"\"\"Python programlama dilinin adı \"piton\" yılanından gelmez\"\"\") #doğru kullanım",
      "metadata": {
        "trusted": true
      },
      "outputs": [
        {
          "name": "stdout",
          "output_type": "stream",
          "text": "Python programlama dilinin adı \"piton\" yılanından gelmez\n"
        }
      ],
      "execution_count": 71
    },
    {
      "cell_type": "code",
      "source": "print(\"\"\"İstanbul'un 5 günlük hava durumu tahmini\"\"\") #doğru kullanım",
      "metadata": {
        "trusted": true
      },
      "outputs": [
        {
          "name": "stdout",
          "output_type": "stream",
          "text": "İstanbul'un 5 günlük hava durumu tahmini\n"
        }
      ],
      "execution_count": 72
    },
    {
      "cell_type": "code",
      "source": "print(''' O an Atatürk'ün \"Ne mutlu Türküm diyene\" sözü gelir ''')",
      "metadata": {
        "trusted": true
      },
      "outputs": [
        {
          "name": "stdout",
          "output_type": "stream",
          "text": " O an Atatürk'ün \"Ne mutlu Türküm diyene\" sözü gelir \n"
        }
      ],
      "execution_count": 73
    },
    {
      "cell_type": "markdown",
      "source": "#### sep parametresi kullanımı ",
      "metadata": {}
    },
    {
      "cell_type": "code",
      "source": "print(\"http://\", \"www.\", \"istihza.\", \"com\") # Araya boşluk koyar",
      "metadata": {
        "trusted": true
      },
      "outputs": [
        {
          "name": "stdout",
          "output_type": "stream",
          "text": "http:// www. istihza. com\n"
        }
      ],
      "execution_count": 74
    },
    {
      "cell_type": "code",
      "source": "print(\"http://\", \"www.\", \"istihza.\", \"com\",sep=\"\") #sep parametresi ile boşluklar kalkıyor",
      "metadata": {
        "trusted": true
      },
      "outputs": [
        {
          "name": "stdout",
          "output_type": "stream",
          "text": "http://www.istihza.com\n"
        }
      ],
      "execution_count": 75
    },
    {
      "cell_type": "code",
      "source": "print(\"www\",\"okul\",\"meb\",\"k12\",\"tr\",sep=\"-\")",
      "metadata": {
        "trusted": true
      },
      "outputs": [
        {
          "name": "stdout",
          "output_type": "stream",
          "text": "www-okul-meb-k12-tr\n"
        }
      ],
      "execution_count": 76
    },
    {
      "cell_type": "code",
      "source": "print(\"www\",\"okul\",\"meb\",\"k12\",\"tr\",sep=\".\") #sep ile aralara nokta işareti koyalım",
      "metadata": {
        "trusted": true
      },
      "outputs": [
        {
          "name": "stdout",
          "output_type": "stream",
          "text": "www.okul.meb.k12.tr\n"
        }
      ],
      "execution_count": 77
    },
    {
      "cell_type": "code",
      "source": "print(1,2,3,4,5,6,sep=\" para \")",
      "metadata": {
        "trusted": true
      },
      "outputs": [
        {
          "name": "stdout",
          "output_type": "stream",
          "text": "1 para 2 para 3 para 4 para 5 para 6\n"
        }
      ],
      "execution_count": 78
    },
    {
      "cell_type": "code",
      "source": "#6' dan sonra da para yazması için end parametresi kullanılmalı. end sadece en sona ekleme yapar",
      "metadata": {
        "trusted": true
      },
      "outputs": [],
      "execution_count": 79
    },
    {
      "cell_type": "markdown",
      "source": "#### end parametresi",
      "metadata": {}
    },
    {
      "cell_type": "code",
      "source": "print(1,2,3,4,5,6, end=\" para\") #sadece en sona ekleme yapar",
      "metadata": {
        "trusted": true
      },
      "outputs": [
        {
          "name": "stdout",
          "output_type": "stream",
          "text": "1 2 3 4 5 6 para"
        }
      ],
      "execution_count": 80
    },
    {
      "cell_type": "code",
      "source": "print(1,2,3,4,5,6,sep=\" para \", end=\" para\")",
      "metadata": {
        "trusted": true
      },
      "outputs": [
        {
          "name": "stdout",
          "output_type": "stream",
          "text": "1 para 2 para 3 para 4 para 5 para 6 para"
        }
      ],
      "execution_count": 81
    },
    {
      "cell_type": "markdown",
      "source": "#### \\n ile yeni satır oluşturma (new line)",
      "metadata": {}
    },
    {
      "cell_type": "code",
      "source": "print(\"Taş Kağıt Makas\")     #tek satırda yazar",
      "metadata": {
        "trusted": true
      },
      "outputs": [
        {
          "name": "stdout",
          "output_type": "stream",
          "text": "Taş Kağıt Makas\n"
        }
      ],
      "execution_count": 82
    },
    {
      "cell_type": "code",
      "source": "print(\"Taş \\nKağıt \\nMakas\")     #Çoklu satırda yazar",
      "metadata": {
        "trusted": true
      },
      "outputs": [
        {
          "name": "stdout",
          "output_type": "stream",
          "text": "Taş \nKağıt \nMakas\n"
        }
      ],
      "execution_count": 83
    },
    {
      "cell_type": "code",
      "source": "print(\"birinci satır ikinci satır üçüncü satır\")",
      "metadata": {
        "trusted": true
      },
      "outputs": [
        {
          "name": "stdout",
          "output_type": "stream",
          "text": "birinci satır ikinci satır üçüncü satır\n"
        }
      ],
      "execution_count": 84
    },
    {
      "cell_type": "code",
      "source": "print(\"birinci satır \\nikinci satır \\nüçüncü satır\")",
      "metadata": {
        "trusted": true
      },
      "outputs": [
        {
          "name": "stdout",
          "output_type": "stream",
          "text": "birinci satır \nikinci satır \nüçüncü satır\n"
        }
      ],
      "execution_count": 85
    },
    {
      "cell_type": "markdown",
      "source": "#### \\t sekme oluşturma",
      "metadata": {}
    },
    {
      "cell_type": "code",
      "source": "print(\"abc\\tdef\")",
      "metadata": {
        "trusted": true
      },
      "outputs": [
        {
          "name": "stdout",
          "output_type": "stream",
          "text": "abc\tdef\n"
        }
      ],
      "execution_count": 86
    },
    {
      "cell_type": "code",
      "source": "print(\"bir\", \"iki\", \"üç\", sep=\"\\t\")",
      "metadata": {
        "trusted": true
      },
      "outputs": [
        {
          "name": "stdout",
          "output_type": "stream",
          "text": "bir\tiki\tüç\n"
        }
      ],
      "execution_count": 87
    },
    {
      "cell_type": "code",
      "source": "print(\"\"\"\n        ADI: Ali\n        SOYADI: GÜN\n        TEL: 533 222 11 00\n        \"\"\")",
      "metadata": {
        "trusted": true
      },
      "outputs": [
        {
          "name": "stdout",
          "output_type": "stream",
          "text": "\n        ADI: Ali\n        SOYADI: GÜN\n        TEL: 533 222 11 00\n        \n"
        }
      ],
      "execution_count": 88
    },
    {
      "cell_type": "code",
      "source": "print(\"\"\"\n        ADI\\t\\t: Ali\n        SOYADI\\t\\t: GÜN\n        TEL\\t\\t: 533 222 11 00\n        \"\"\")",
      "metadata": {
        "trusted": true
      },
      "outputs": [
        {
          "name": "stdout",
          "output_type": "stream",
          "text": "\n        ADI\t\t: Ali\n        SOYADI\t\t: GÜN\n        TEL\t\t: 533 222 11 00\n        \n"
        }
      ],
      "execution_count": 89
    },
    {
      "cell_type": "markdown",
      "source": "#### print Formatlama",
      "metadata": {}
    },
    {
      "cell_type": "markdown",
      "source": "Programlama yaparken bazı yerlerde bir stringin içinde daha önceden tanımlı string,float, int vs. değerleri yerleştirmek isteyebiliriz. \nBöyle durumlar için Pythonda *format()* fonksiyonu bulunmaktadır. \nÖrneğin, programımızda 3 tane tamsayı değerimiz var ve biz bunları bir string içinde ekrana basmak istiyoruz. \nBunun için *format()* fonksiyonunu kullanabiliriz. \n*format()* fonksiyonunun çok fazla özelliği olduğu için, ben burada sadece en çok kullandığımız özelliğini göstereceğim. {} parantezleri ile veri alanları oluşturularak bu alanlara istenen değerler ya da değişkenler aktarılabilir.",
      "metadata": {}
    },
    {
      "cell_type": "code",
      "source": "print(\"Merhaba {}\".format(\"Ali\"))",
      "metadata": {
        "trusted": true
      },
      "outputs": [
        {
          "name": "stdout",
          "output_type": "stream",
          "text": "Merhaba Ali\n"
        }
      ],
      "execution_count": 90
    },
    {
      "cell_type": "code",
      "source": "# Burada 3 tane süslü parantezimiz ({}) var ve bunların yerine sırasıyla format fonksiyonun içindeki değerler geçiyor.\nprint(\"{} {} {}\".format(1,2,3))",
      "metadata": {
        "trusted": true
      },
      "outputs": [
        {
          "name": "stdout",
          "output_type": "stream",
          "text": "1 2 3\n"
        }
      ],
      "execution_count": 100
    },
    {
      "cell_type": "code",
      "source": "ad = \"Ali\"\nprint(\"Merhaba {}, nasılsın?\".format(ad))",
      "metadata": {
        "trusted": true
      },
      "outputs": [
        {
          "name": "stdout",
          "output_type": "stream",
          "text": "Merhaba Ali, nasılsın?\n"
        }
      ],
      "execution_count": 92
    },
    {
      "cell_type": "code",
      "source": "a = 3\nb = 4\nprint(\"{} + {} 'nin toplamı {} 'dır\".format(a,b,a+b))",
      "metadata": {
        "trusted": true
      },
      "outputs": [
        {
          "name": "stdout",
          "output_type": "stream",
          "text": "3 + 4 'nin toplamı 7 'dır\n"
        }
      ],
      "execution_count": 93
    },
    {
      "cell_type": "code",
      "source": "# Süslü parantezlerin içindeki sayılar format fonksiyonun içinden hangi sıradaki değerin geleceğini söylüyor.\n\"{1} {0} {2}\".format(43,\"Murat\",54)",
      "metadata": {
        "trusted": true
      },
      "outputs": [
        {
          "execution_count": 94,
          "output_type": "execute_result",
          "data": {
            "text/plain": "'Murat 43 54'"
          },
          "metadata": {}
        }
      ],
      "execution_count": 94
    },
    {
      "cell_type": "code",
      "source": "# Süslü parantezlerin içindeki kullanım ondalıklı kısmın sadece 2 basamağına kadar almak istediğimiz söylüyor.\n\"{:.2f} {:.2f} {:.3f}\".format(3.1463,5.324,7.324324)",
      "metadata": {
        "trusted": true
      },
      "outputs": [
        {
          "execution_count": 95,
          "output_type": "execute_result",
          "data": {
            "text/plain": "'3.15 5.32 7.324'"
          },
          "metadata": {}
        }
      ],
      "execution_count": 95
    },
    {
      "cell_type": "markdown",
      "source": "#### f parametre kullanımı",
      "metadata": {}
    },
    {
      "cell_type": "markdown",
      "source": ".format kullanımına göre daha pratik bir yapısı vardır. print fonksiyonun hemen başına yazılır. { } parantezleri ile oluşturulan veri alanlarına istenen değişken veya değerler yazılırarak kullanılabilir. ",
      "metadata": {}
    },
    {
      "cell_type": "code",
      "source": "ad = 'Ali'\nsoyad = 'ER'\nburc = \"YAY\"\n\nprint(f'Selam {ad} {soyad} . Sen {burc} özelliklerini taşıyorsun.')",
      "metadata": {
        "trusted": true
      },
      "outputs": [
        {
          "name": "stdout",
          "output_type": "stream",
          "text": "Selam Ali ER . Sen YAY özelliklerini taşıyorsun.\n"
        }
      ],
      "execution_count": 101
    },
    {
      "cell_type": "code",
      "source": "isim = 'Ali'\nyas = 18\nprint(f'Onun adı {isim} ve o {yas} yaşında.')",
      "metadata": {
        "trusted": true
      },
      "outputs": [
        {
          "name": "stdout",
          "output_type": "stream",
          "text": "Onun adı Ali ve o 18 yaşında.\n"
        }
      ],
      "execution_count": 97
    },
    {
      "cell_type": "code",
      "source": "# Aynı örneği format() fonksiyonu ile de yazıp arasındaki farka bakalım:",
      "metadata": {
        "trusted": true
      },
      "outputs": [],
      "execution_count": 98
    },
    {
      "cell_type": "code",
      "source": "isim = 'Ali'\nyas = 18\nprint(\"Onun adı {} ve o {} yaşında.\".format(isim, yas))",
      "metadata": {
        "trusted": true
      },
      "outputs": [
        {
          "name": "stdout",
          "output_type": "stream",
          "text": "Onun adı Ali ve o 18 yaşında.\n"
        }
      ],
      "execution_count": 99
    },
    {
      "cell_type": "markdown",
      "source": "### MANTIKSAL VERİ TÜRLERİ",
      "metadata": {}
    },
    {
      "cell_type": "raw",
      "source": "<  : Küçük mü\n>  : Büyük mü\n>= : Büyük eşit mi\n<= : Küçük eşit mi\n== : Eşit mi\n=! : Farklı mı",
      "metadata": {}
    },
    {
      "cell_type": "code",
      "source": "3<10",
      "metadata": {
        "trusted": true
      },
      "outputs": [
        {
          "execution_count": 3,
          "output_type": "execute_result",
          "data": {
            "text/plain": "True"
          },
          "metadata": {}
        }
      ],
      "execution_count": 3
    },
    {
      "cell_type": "code",
      "source": "pi = 3.14",
      "metadata": {
        "trusted": true
      },
      "outputs": [],
      "execution_count": 4
    },
    {
      "cell_type": "code",
      "source": "5 > pi",
      "metadata": {
        "trusted": true
      },
      "outputs": [
        {
          "execution_count": 5,
          "output_type": "execute_result",
          "data": {
            "text/plain": "True"
          },
          "metadata": {}
        }
      ],
      "execution_count": 5
    },
    {
      "cell_type": "code",
      "source": "# ==\teşit mi ?\npi == 3.14 ",
      "metadata": {
        "trusted": true
      },
      "outputs": [
        {
          "execution_count": 9,
          "output_type": "execute_result",
          "data": {
            "text/plain": "True"
          },
          "metadata": {}
        }
      ],
      "execution_count": 9
    },
    {
      "cell_type": "code",
      "source": "pi != 5 # != Eşit değil (Farklı mı?)",
      "metadata": {
        "trusted": true
      },
      "outputs": [
        {
          "execution_count": 10,
          "output_type": "execute_result",
          "data": {
            "text/plain": "True"
          },
          "metadata": {}
        }
      ],
      "execution_count": 10
    },
    {
      "cell_type": "code",
      "source": "5 == 4",
      "metadata": {
        "trusted": true
      },
      "outputs": [
        {
          "execution_count": 11,
          "output_type": "execute_result",
          "data": {
            "text/plain": "False"
          },
          "metadata": {}
        }
      ],
      "execution_count": 11
    },
    {
      "cell_type": "code",
      "source": "x = 5 \ny = 5\n\nx == y",
      "metadata": {
        "trusted": true
      },
      "outputs": [
        {
          "execution_count": 12,
          "output_type": "execute_result",
          "data": {
            "text/plain": "True"
          },
          "metadata": {}
        }
      ],
      "execution_count": 12
    },
    {
      "cell_type": "code",
      "source": "#  !=\teşit değil mi?\t(Farklı mı? )\n10 != 9",
      "metadata": {
        "trusted": true
      },
      "outputs": [
        {
          "execution_count": 13,
          "output_type": "execute_result",
          "data": {
            "text/plain": "True"
          },
          "metadata": {}
        }
      ],
      "execution_count": 13
    },
    {
      "cell_type": "code",
      "source": "5 != 5 ",
      "metadata": {
        "trusted": true
      },
      "outputs": [
        {
          "execution_count": 14,
          "output_type": "execute_result",
          "data": {
            "text/plain": "False"
          },
          "metadata": {}
        }
      ],
      "execution_count": 14
    },
    {
      "cell_type": "code",
      "source": "# >\tBüyük mü ?\t\n5 > 5",
      "metadata": {
        "trusted": true
      },
      "outputs": [
        {
          "execution_count": 15,
          "output_type": "execute_result",
          "data": {
            "text/plain": "False"
          },
          "metadata": {}
        }
      ],
      "execution_count": 15
    },
    {
      "cell_type": "code",
      "source": "7 > 2",
      "metadata": {
        "trusted": true
      },
      "outputs": [
        {
          "execution_count": 16,
          "output_type": "execute_result",
          "data": {
            "text/plain": "True"
          },
          "metadata": {}
        }
      ],
      "execution_count": 16
    },
    {
      "cell_type": "code",
      "source": "# <\tKüçük mü ?\n8 < 5",
      "metadata": {
        "trusted": true
      },
      "outputs": [
        {
          "execution_count": 17,
          "output_type": "execute_result",
          "data": {
            "text/plain": "False"
          },
          "metadata": {}
        }
      ],
      "execution_count": 17
    },
    {
      "cell_type": "code",
      "source": "8 < 9 ",
      "metadata": {
        "trusted": true
      },
      "outputs": [
        {
          "execution_count": 18,
          "output_type": "execute_result",
          "data": {
            "text/plain": "True"
          },
          "metadata": {}
        }
      ],
      "execution_count": 18
    },
    {
      "cell_type": "code",
      "source": "#  >=\tBüyük eşit mi ?\t",
      "metadata": {
        "trusted": true
      },
      "outputs": [],
      "execution_count": null
    },
    {
      "cell_type": "code",
      "source": "5 >= 5\t",
      "metadata": {
        "trusted": true
      },
      "outputs": [
        {
          "execution_count": 19,
          "output_type": "execute_result",
          "data": {
            "text/plain": "True"
          },
          "metadata": {}
        }
      ],
      "execution_count": 19
    },
    {
      "cell_type": "code",
      "source": "5 >= 8",
      "metadata": {
        "trusted": true
      },
      "outputs": [
        {
          "execution_count": 23,
          "output_type": "execute_result",
          "data": {
            "text/plain": "False"
          },
          "metadata": {}
        }
      ],
      "execution_count": 23
    },
    {
      "cell_type": "code",
      "source": "#   <=\tKüçük eşit mi ?\t",
      "metadata": {
        "trusted": true
      },
      "outputs": [],
      "execution_count": null
    },
    {
      "cell_type": "code",
      "source": "5 <= 5\t",
      "metadata": {
        "trusted": true
      },
      "outputs": [
        {
          "execution_count": 21,
          "output_type": "execute_result",
          "data": {
            "text/plain": "True"
          },
          "metadata": {}
        }
      ],
      "execution_count": 21
    },
    {
      "cell_type": "code",
      "source": "5 <= 3",
      "metadata": {
        "trusted": true
      },
      "outputs": [
        {
          "execution_count": 22,
          "output_type": "execute_result",
          "data": {
            "text/plain": "False"
          },
          "metadata": {}
        }
      ],
      "execution_count": 22
    },
    {
      "cell_type": "markdown",
      "source": "### input () komutu ile kullanicıdan veri alma",
      "metadata": {}
    },
    {
      "cell_type": "raw",
      "source": "input() fonksiyonu ile kullanıcının klavyeden veri girişi yapmasını sağlarız. Girilen veriler değişkenlere aktarılarak kullanılabilir. ",
      "metadata": {}
    },
    {
      "cell_type": "code",
      "source": "isim = input(\"İsminiz nedir : \")         #isim değişkenine, input ile klavyeden girilen değerler atanıyor\nprint(\"Merhaba\",isim, \"nasılsın?\")       #print komutunda metinler ile değişkenler arasına virgül konulur.",
      "metadata": {
        "trusted": true
      },
      "outputs": [
        {
          "output_type": "stream",
          "name": "stdin",
          "text": "İsminiz nedir :  Ece\n"
        },
        {
          "name": "stdout",
          "output_type": "stream",
          "text": "Merhaba Ece nasılsın?\n"
        }
      ],
      "execution_count": 25
    },
    {
      "cell_type": "markdown",
      "source": "##### DİKKAT: input() komutu ile alınan veriler daima string yapıya sahiptir.",
      "metadata": {}
    },
    {
      "cell_type": "code",
      "source": "sayil = input(\"1. Sayıyı Giriniz : \")\nsayi2 = input(\"2.Sayıyı Giriniz: \")\nhesapla = sayil + sayi2\nprint(\"Girilen sayıların toplamı =\", hesapla)",
      "metadata": {
        "trusted": true
      },
      "outputs": [
        {
          "output_type": "stream",
          "name": "stdin",
          "text": "1. Sayıyı Giriniz :  12\n2.Sayıyı Giriniz:  78\n"
        },
        {
          "name": "stdout",
          "output_type": "stream",
          "text": "Girilen sayıların toplamı = 1278\n"
        }
      ],
      "execution_count": 26
    },
    {
      "cell_type": "markdown",
      "source": "##### Girilen değerler string olarak alındığı için + işlemi ile bu iki string birleştirildi. ",
      "metadata": {}
    },
    {
      "cell_type": "markdown",
      "source": "##### Bu hatayı düzeltmek için bir kaç yöntem mevcuttur. Öncelikle string olarak alınan değerlerin integer'a dönüştürülmesi gerekiyor\n",
      "metadata": {}
    },
    {
      "cell_type": "code",
      "source": "sayil = input(\"1.Sayıyı Giriniz: \")\nsayi2 = input(\"2.Sayıyı Giriniz: \")\nhesapla = int(sayil) + int(sayi2) #sayil ve sayi2 integer'a dönüştürülür.\nprint(\"Girilen sayıların toplamı =\", hesapla)",
      "metadata": {
        "trusted": true
      },
      "outputs": [
        {
          "output_type": "stream",
          "name": "stdin",
          "text": "1.Sayıyı Giriniz:  12\n2.Sayıyı Giriniz:  78\n"
        },
        {
          "name": "stdout",
          "output_type": "stream",
          "text": "Girilen sayıların toplamı = 90\n"
        }
      ],
      "execution_count": 28
    },
    {
      "cell_type": "markdown",
      "source": "##### Yukarıdaki işlemde sayılar geçici olarak integer'a dönüştürüldü. \nYa da integer'a dönüşüm işlemi sayı kullanıcıdan alınırken yapılır ve bu şekilde programın bundan sonraki her yerinde sayı olarak kullanılabilirler. \n",
      "metadata": {}
    },
    {
      "cell_type": "code",
      "source": "sayil = int(input(\"1.Sayıyı Giriniz : \"))   # input ile alınan değer değişkene sayı olarak aktarıldı.\nsayi2 = int(input(\"2.Sayıyı Giriniz: \"))\nhesapla = sayil + sayi2\n#int() fonksiyonu ile input edilen string, integer'a dönüştürülür\nprint(\"Girilen sayıların toplamı =\", hesapla)",
      "metadata": {
        "trusted": true
      },
      "outputs": [
        {
          "output_type": "stream",
          "name": "stdin",
          "text": "1.Sayıyı Giriniz :  12\n2.Sayıyı Giriniz:  78\n"
        },
        {
          "name": "stdout",
          "output_type": "stream",
          "text": "Girilen sayıların toplamı = 90\n"
        }
      ],
      "execution_count": 29
    },
    {
      "cell_type": "code",
      "source": "Kullanıcıdan alınan iki adet sayıyı kullanarak bir kaç işlem yaptıralım\n",
      "metadata": {
        "trusted": true
      },
      "outputs": [],
      "execution_count": null
    },
    {
      "cell_type": "code",
      "source": "sayi1 = int(input(\"1.Sayıyı Giriniz : \"))  #sayi1 artık bir integer\nsayi2 = int(input(\"2.Sayıyı Giriniz: \"))    #sayi2 de integer\n\nprint(\"TOPLAM \\t=\", sayi1 + sayi2)\nprint(\"FARK \\t=\", sayi1 - sayi2)\nprint(\"ÇARPIM \\t=\", sayi1 * sayi2)\nprint(\"BÖLÜM \\t=\", sayi1 / sayi2)\n",
      "metadata": {
        "trusted": true
      },
      "outputs": [
        {
          "output_type": "stream",
          "name": "stdin",
          "text": "1.Sayıyı Giriniz :  12\n2.Sayıyı Giriniz:  3\n"
        },
        {
          "name": "stdout",
          "output_type": "stream",
          "text": "TOPLAM \t= 15\nFARK \t= 9\nÇARPIM \t= 36\nBÖLÜM \t= 4.0\n"
        }
      ],
      "execution_count": 32
    },
    {
      "cell_type": "markdown",
      "source": "#### Sen yap:\nKullanıcıdan bir sayı girilmesini iste, daha sonra kullanıcının girdiği bu sayının karesini ekrana yazdıran kodu yaz.",
      "metadata": {}
    },
    {
      "cell_type": "code",
      "source": "a = int(input(\"Sayı giriniz : \"))\nprint(f\"Girilen sayının karesi = { a*a } 'dır\")",
      "metadata": {
        "trusted": true
      },
      "outputs": [
        {
          "output_type": "stream",
          "name": "stdin",
          "text": "Sayı giriniz :  7\n"
        },
        {
          "name": "stdout",
          "output_type": "stream",
          "text": "Girilen sayının karesi = 49 'dır\n"
        }
      ],
      "execution_count": 34
    },
    {
      "cell_type": "markdown",
      "source": "##### Kullanıcıdan çoklu değer almak\n",
      "metadata": {}
    },
    {
      "cell_type": "code",
      "source": "#yazılı notlarının alınmasını tek satırda yapmak için\ny1, y2, y3 = int(input(\"1.YAZILI : \")),int(input(\"2.YAZILI : \")), int(input(\"3.YAZILI : \"))\nort = (y1+y2+y3)/3\nprint(\"ORTALAMANIZ= \",ort)",
      "metadata": {
        "trusted": true
      },
      "outputs": [
        {
          "output_type": "stream",
          "name": "stdin",
          "text": "1.YAZILI :  80\n2.YAZILI :  90\n3.YAZILI :  100\n"
        },
        {
          "name": "stdout",
          "output_type": "stream",
          "text": "ORTALAMANIZ=  90.0\n"
        }
      ],
      "execution_count": 35
    },
    {
      "cell_type": "markdown",
      "source": "#### ÖRNEKLER",
      "metadata": {}
    },
    {
      "cell_type": "markdown",
      "source": "#### Örnek 1: ",
      "metadata": {}
    },
    {
      "cell_type": "code",
      "source": "print(\"Lütfen aşağıdaki bilgileri giriniz\")\n\nx = input(\"Adınız \\t: \")\ny = input (\"Soyadınız \\t: \")\nz = int(input(\"Yaşınız \\t:\"))\nprint(\"Bilgiler kaydedildi....\")\n\nprint(f\"Öğrencimiz {x} {y} şuan {z} yaşındadır.\")",
      "metadata": {
        "trusted": true
      },
      "outputs": [
        {
          "name": "stdout",
          "output_type": "stream",
          "text": "Lütfen aşağıdaki bilgileri giriniz\n"
        },
        {
          "output_type": "stream",
          "name": "stdin",
          "text": "Adınız \t:  Ova\nSoyadınız \t:  KALE\nYaşınız \t: 15\n"
        },
        {
          "name": "stdout",
          "output_type": "stream",
          "text": "Bilgiler kaydedildi....\nÖğrencimiz Ova KALE şuan 15 yaşındadır.\n"
        }
      ],
      "execution_count": 37
    },
    {
      "cell_type": "markdown",
      "source": "#### Örnek 2: Girilen 3 sayıyı toplayan program",
      "metadata": {}
    },
    {
      "cell_type": "code",
      "source": "a = int(input(\"1.Sayı giriniz : \"))  # girilen değer integer'a dönüştürülür.\nb = int(input(\"2.Sayı giriniz : \"))\nc = int(input(\"3.Sayı giriniz : \"))\n\nhesapla = a + b + c\nprint(f\"Girilen sayıların toplamı {hesapla}'dır\")",
      "metadata": {
        "trusted": true
      },
      "outputs": [
        {
          "output_type": "stream",
          "name": "stdin",
          "text": "1.Sayı giriniz :  5\n2.Sayı giriniz :  8\n3.Sayı giriniz :  9\n"
        },
        {
          "name": "stdout",
          "output_type": "stream",
          "text": "Girilen sayıların toplamı 22'dır\n"
        }
      ],
      "execution_count": 38
    },
    {
      "cell_type": "code",
      "source": "#### SEN YAP\n1- Kullanıcıdan dikdörtgenin kenar uzunluklarını girilmesini iste, girilen uzunluklara göre dikdörtgenin alanını ve\nçevresini hesaplayıp ekrana yazdır.\n",
      "metadata": {
        "trusted": true
      },
      "outputs": [],
      "execution_count": null
    },
    {
      "cell_type": "code",
      "source": "u = int(input(\"Uzun kenarı giriniz : \"))\nk = int(input(\"Kısa kenarı giriniz : \"))\nalan = u * k\ncevre = 2*u + 2*k\n\nprint(f\"ALAN = {alan}\")\nprint(f\"ÇEVRE = {cevre}\")",
      "metadata": {
        "trusted": true
      },
      "outputs": [
        {
          "output_type": "stream",
          "name": "stdin",
          "text": "Uzun kenarı giriniz :  6\nKısa kenarı giriniz :  2\n"
        },
        {
          "name": "stdout",
          "output_type": "stream",
          "text": "ALAN = 12\nÇEVRE = 16\n"
        }
      ],
      "execution_count": 39
    },
    {
      "cell_type": "code",
      "source": "2- Kullanıcıdan doğum yılının girilmesini iste ve o kişinin yaşını hesaplayıp ekrana yazdır.\n",
      "metadata": {
        "trusted": true
      },
      "outputs": [],
      "execution_count": null
    },
    {
      "cell_type": "code",
      "source": "sene = int(input(\"Doğum yılınızı giriniz : \"))\nyas = 2025 - sene\nprint(f\"Merhaba, doğum yılınız {sene} ve yaşınız {yas}'dır!\")",
      "metadata": {
        "trusted": true
      },
      "outputs": [
        {
          "output_type": "stream",
          "name": "stdin",
          "text": "Doğum yılınızı giriniz :  2000\n"
        },
        {
          "name": "stdout",
          "output_type": "stream",
          "text": "Merhaba, doğum yılınız 2000 ve yaşınız 25'dır!\n"
        }
      ],
      "execution_count": 41
    },
    {
      "cell_type": "code",
      "source": "3- Kullanıcıdan bir sayı girilmesini iste ve girilen bu sayının karekökünü, karesini ve küpünü hesaplayıp ekrana\nyazdır.",
      "metadata": {
        "trusted": true
      },
      "outputs": [],
      "execution_count": null
    },
    {
      "cell_type": "code",
      "source": "sayi = int(input(\"Sayıyı giriniz\"))\nkare = pow(sayi,2)\nkup = pow(sayi,3)\nkarekok = pow(sayi, 0.5)\n\nprint(f\"Girilen sayının karesi : { kare } \")\nprint(f\"Girilen sayının küpü : { kup } \")\nprint(f\"Girilen sayının karekökü : { karekok } \")\n",
      "metadata": {
        "trusted": true
      },
      "outputs": [
        {
          "output_type": "stream",
          "name": "stdin",
          "text": "Sayıyı giriniz 9\n"
        },
        {
          "name": "stdout",
          "output_type": "stream",
          "text": "Girilen sayının karesi : 81 \nGirilen sayının küpü : 729 \nGirilen sayının karekökü : 3.0 \n"
        }
      ],
      "execution_count": 45
    }
  ]
}